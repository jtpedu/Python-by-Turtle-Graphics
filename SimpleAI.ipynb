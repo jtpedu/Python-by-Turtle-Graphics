{
  "nbformat": 4,
  "nbformat_minor": 0,
  "metadata": {
    "colab": {
      "provenance": [],
      "authorship_tag": "ABX9TyPRSZQW4eUGnpgyLNKqqAAa",
      "include_colab_link": true
    },
    "kernelspec": {
      "name": "python3",
      "display_name": "Python 3"
    },
    "language_info": {
      "name": "python"
    }
  },
  "cells": [
    {
      "cell_type": "markdown",
      "metadata": {
        "id": "view-in-github",
        "colab_type": "text"
      },
      "source": [
        "<a href=\"https://colab.research.google.com/github/jtpedu/Python-by-Turtle-Graphics/blob/main/SimpleAI.ipynb\" target=\"_parent\"><img src=\"https://colab.research.google.com/assets/colab-badge.svg\" alt=\"Open In Colab\"/></a>"
      ]
    },
    {
      "cell_type": "markdown",
      "source": [
        "**Step1**\n",
        "ライブラリの読み込み"
      ],
      "metadata": {
        "id": "6ulNYTDMDo_A"
      }
    },
    {
      "cell_type": "code",
      "execution_count": null,
      "metadata": {
        "id": "Aoo7KxqpDmFM"
      },
      "outputs": [],
      "source": [
        "import numpy as np\n",
        "import pandas as pd\n",
        "import matplotlib.pyplot as plt\n",
        "\n",
        "from sklearn import datasets\n",
        "from sklearn.neural_network import MLPClassifier\n",
        "from sklearn.model_selection import train_test_split"
      ]
    },
    {
      "cell_type": "markdown",
      "source": [
        "**Step2**\n",
        "データの準備"
      ],
      "metadata": {
        "id": "wxMuwS6xn41m"
      }
    },
    {
      "cell_type": "code",
      "source": [
        "# Load datasets\n",
        "digits = datasets.load_digits()\n",
        "\n",
        "#Loard as pandas.DataFrame\n",
        "df_digits = pd.DataFrame(data=digits.data,columns=digits.feature_names)\n",
        "\n",
        "#Add target\n",
        "df_digits['target'] = digits.target\n",
        "\n",
        "#Split the dataset\n",
        "data_train,data_test,target_train,target_test = train_test_split(digits.data,digits.target,test_size=0.2,random_state=0)"
      ],
      "metadata": {
        "id": "gzdyr8thoOxK"
      },
      "execution_count": null,
      "outputs": []
    },
    {
      "cell_type": "markdown",
      "source": [
        "**Step3**\n",
        "モデルの作成"
      ],
      "metadata": {
        "id": "yu8kG15XDnKA"
      }
    },
    {
      "cell_type": "code",
      "source": [
        "# Define Nural Network model\n",
        "clf = MLPClassifier(hidden_layer_sizes=10, activation='relu', solver='adam', max_iter=1500)"
      ],
      "metadata": {
        "id": "PRhKH-F_yjsL"
      },
      "execution_count": null,
      "outputs": []
    },
    {
      "cell_type": "markdown",
      "source": [
        "**Step4**\n",
        "モデルを学習させる"
      ],
      "metadata": {
        "id": "QzIamPZF2Lr6"
      }
    },
    {
      "cell_type": "code",
      "source": [
        "# Learning model\n",
        "clf.fit(data_train,target_train)\n",
        "\n",
        "# Calculate prediction accuracy\n",
        "print(clf.score(data_train,target_train))"
      ],
      "metadata": {
        "id": "lQ2fU8_P2Rlk"
      },
      "execution_count": null,
      "outputs": []
    },
    {
      "cell_type": "markdown",
      "source": [
        "**Step5**\n",
        "テストデータでの正しく予測できるか確認"
      ],
      "metadata": {
        "id": "gmKDQhmL2lMS"
      }
    },
    {
      "cell_type": "code",
      "source": [
        "# Predict test data\n",
        "print(clf.predict(data_test))"
      ],
      "metadata": {
        "id": "GCIb_wYA2jwP"
      },
      "execution_count": null,
      "outputs": []
    },
    {
      "cell_type": "code",
      "source": [
        "print(target_test)"
      ],
      "metadata": {
        "id": "kOz2rtdp39hV"
      },
      "execution_count": null,
      "outputs": []
    },
    {
      "cell_type": "markdown",
      "source": [
        "**Step6**\n",
        "学習過程の可視化"
      ],
      "metadata": {
        "id": "WeQN4nWw4Za5"
      }
    },
    {
      "cell_type": "code",
      "source": [
        "print(clf.loss_curve_)\n",
        "\n",
        "#Show loss cuve\n",
        "plt.plot(clf.loss_curve_)\n",
        "plt.title(\"Loss Curve\")\n",
        "plt.xlabel(\"Iteration\")\n",
        "plt.ylabel(\"Loss\")\n",
        "plt.grid()\n",
        "plt.show()"
      ],
      "metadata": {
        "id": "QoV8Yo904EcN"
      },
      "execution_count": null,
      "outputs": []
    }
  ]
}