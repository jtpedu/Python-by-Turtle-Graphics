{
  "cells": [
    {
      "cell_type": "markdown",
      "metadata": {
        "id": "Rz1MY46ziiID"
      },
      "source": [
        "# 🐢タートルグラフィックスの始め方🐢\n",
        "👇のコマンド入力欄(セルと呼びます)の左にある「▶」ボタンを押して実行してみましょう。\n",
        "すると白いキャンバスに緑のカメが表示されます。\n",
        "これで準備は完了です❗😽😽😽😽😽"
      ]
    },
    {
      "cell_type": "code",
      "execution_count": null,
      "metadata": {
        "id": "uL_tXOX9ikMM"
      },
      "outputs": [],
      "source": [
        "#############################################################################################################\n",
        "#👈にある再生ボタンをクリックして実行してください。そうすればタートルグラフィックスのための準備は完了です！#\n",
        "#############################################################################################################\n",
        "%pip install ColabTurtle\n",
        "from ColabTurtle.Turtle import *\n",
        "initializeTurtle()\n",
        "speed(5)\n",
        "bgcolor('white')\n",
        "pencolor('green')"
      ]
    },
    {
      "cell_type": "markdown",
      "metadata": {
        "id": "1tYHJ7t3ipfO"
      },
      "source": [
        "かわいいカメさん！ 🐢🐢🐢🐢🐢🐢🐢🐢🐢🐢🐢🐢🐢🐢🐢🐢🐢🐢🐢🐢🐢🐢🐢 ちなみに実行はプログラム文を入力中にCtrl+Enter(MacOSならCommand+Enter)でもできますよ！\n"
      ]
    },
    {
      "attachments": {},
      "cell_type": "markdown",
      "metadata": {
        "id": "4pU6DiXs5SW6"
      },
      "source": [
        "*******\n",
        "## 🐢おさらい：○○🐢\n",
        "先週学びました randomモジュールで★の辺をランダムな色にする方法を振り返ってみましょう。 \n",
        "\n",
        "初めての方もぜひ試してみてくださーい！！\n",
        "\n",
        "🐢🐢🐢🐢🐢🐢🐢🐢🐢🐢🐢🐢🐢🐢🐢🐢🐢🐢"
      ]
    },
    {
      "cell_type": "code",
      "execution_count": null,
      "metadata": {
        "id": "Qq08znsA62D6"
      },
      "outputs": [],
      "source": [
        "##########################################\n",
        "#👇にコードを入力して○○\n",
        "#########################################\n"
      ]
    },
    {
      "attachments": {},
      "cell_type": "markdown",
      "metadata": {
        "id": "9fJi4vfp6J-0"
      },
      "source": [
        "*****\n",
        "## 🐢本日のミッション：★の色を交互に描きましょう🐢\n",
        "\n",
        "講師からのヒントに従ってチャレンジしてみてくださーい！！"
      ]
    },
    {
      "cell_type": "code",
      "execution_count": null,
      "metadata": {
        "id": "whObpfLIi1vN"
      },
      "outputs": [],
      "source": [
        "#########################################\n",
        "#👇にコードを入力して★を大きくしてください。\n",
        "#########################################\n",
        "\n",
        "\n",
        "\n",
        "\n",
        "\n",
        "\n"
      ]
    },
    {
      "cell_type": "code",
      "execution_count": null,
      "metadata": {},
      "outputs": [],
      "source": [
        "import random\n",
        "\n",
        "home()\n",
        "clear()\n",
        "right(90)\n",
        "\n",
        "for i in range(25):\n",
        "    if pencolor() == \"green\":\n",
        "        pencolor(\"red\")\n",
        "    else:\n",
        "        pencolor(\"green\")\n",
        "\n",
        "    forward(100 + (i * 10))\n",
        "    right(144)"
      ]
    },
    {
      "attachments": {},
      "cell_type": "markdown",
      "metadata": {
        "id": "eLCUVOYA6rQX"
      },
      "source": [
        "****\n",
        "## ★の色を交互に描けましたか？\n",
        "\n",
        "さすが！あなたはたった数十分でコンピュータに何個も命令ができるようになったわけですね！\n",
        "\n",
        "めっちゃカッコいい❗❗😻😻😻😻\n",
        "\n",
        "ぜひあなたの作品を皆さんに共有してみてください！\n",
        "\n",
        " 👉https://forms.office.com/Pages/ResponsePage.aspx?id=RZxMVaXXBUSJtCP4s7MsCCl976eBnelIieBxpi83jVpUODVJQ1NUVkszSDZDQkQyQjZYVzFPSEhTVi4u\n",
        "\n",
        "今回はここまで！\n",
        "\n",
        "もっといろんなことを試したい？ここはいつでも自由に使えますよ！"
      ]
    }
  ],
  "metadata": {
    "colab": {
      "provenance": []
    },
    "kernelspec": {
      "display_name": "Python 3",
      "language": "python",
      "name": "python3"
    },
    "language_info": {
      "codemirror_mode": {
        "name": "ipython",
        "version": 3
      },
      "file_extension": ".py",
      "mimetype": "text/x-python",
      "name": "python",
      "nbconvert_exporter": "python",
      "pygments_lexer": "ipython3",
      "version": "3.10.9"
    },
    "vscode": {
      "interpreter": {
        "hash": "94a85d3af747676f8625f1b750dfdb4c63d8903fd32b928c9694957c8a317e6a"
      }
    }
  },
  "nbformat": 4,
  "nbformat_minor": 0
}
