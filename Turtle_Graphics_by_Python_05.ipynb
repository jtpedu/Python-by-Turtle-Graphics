{
  "nbformat": 4,
  "nbformat_minor": 0,
  "metadata": {
    "colab": {
      "provenance": []
    },
    "kernelspec": {
      "name": "python3",
      "display_name": "Python 3"
    },
    "language_info": {
      "name": "python"
    }
  },
  "cells": [
    {
      "cell_type": "markdown",
      "source": [
        "# 🐢タートルグラフィックスの始め方🐢\n",
        "👇のコマンド入力欄(セルと呼びます)の左にある「▶」ボタンを押して実行してみましょう。\n",
        "すると白いキャンバスに緑のカメが表示されます。\n",
        "これで準備は完了です❗😽😽😽😽😽"
      ],
      "metadata": {
        "id": "Rz1MY46ziiID"
      }
    },
    {
      "cell_type": "code",
      "source": [
        "#############################################################################################################\n",
        "#👈にある再生ボタンをクリックして実行してください。そうすればタートルグラフィックスのための準備は完了です！#\n",
        "#############################################################################################################\n",
        "%pip install ColabTurtle\n",
        "from ColabTurtle.Turtle import *\n",
        "initializeTurtle()\n",
        "speed(10)\n",
        "bgcolor('white')\n",
        "pencolor('green')"
      ],
      "metadata": {
        "id": "uL_tXOX9ikMM",
        "colab": {
          "base_uri": "https://localhost:8080/",
          "height": 725
        },
        "outputId": "795f775f-9575-480c-9c46-e46c5ab99093"
      },
      "execution_count": 1,
      "outputs": [
        {
          "output_type": "stream",
          "name": "stdout",
          "text": [
            "Looking in indexes: https://pypi.org/simple, https://us-python.pkg.dev/colab-wheels/public/simple/\n",
            "Collecting ColabTurtle\n",
            "  Downloading ColabTurtle-2.1.0.tar.gz (6.8 kB)\n",
            "  Preparing metadata (setup.py) ... \u001b[?25l\u001b[?25hdone\n",
            "Building wheels for collected packages: ColabTurtle\n",
            "  Building wheel for ColabTurtle (setup.py) ... \u001b[?25l\u001b[?25hdone\n",
            "  Created wheel for ColabTurtle: filename=ColabTurtle-2.1.0-py3-none-any.whl size=7656 sha256=5017d6fd2cfd60cbb19f7c8f8d7a68b4bc192d64b662b2b9e03999ea5457dfce\n",
            "  Stored in directory: /root/.cache/pip/wheels/a9/85/dc/29b6b43c4c6c0fe37192ccad65fe2adcef1e52dd24b0eb61fc\n",
            "Successfully built ColabTurtle\n",
            "Installing collected packages: ColabTurtle\n",
            "Successfully installed ColabTurtle-2.1.0\n"
          ]
        },
        {
          "output_type": "display_data",
          "data": {
            "text/plain": [
              "<IPython.core.display.HTML object>"
            ],
            "text/html": [
              "\n",
              "      <svg width=\"800\" height=\"500\">\n",
              "        <rect width=\"100%\" height=\"100%\" fill=\"white\"/>\n",
              "        \n",
              "        <g visibility=visible transform=\"rotate(360,400,250) translate(382, 232)\">\n",
              "<path style=\" stroke:none;fill-rule:evenodd;fill:green;fill-opacity:1;\" d=\"M 18.214844 0.632812 C 16.109375 1.800781 15.011719 4.074219 15.074219 7.132812 L 15.085938 7.652344 L 14.785156 7.496094 C 13.476562 6.824219 11.957031 6.671875 10.40625 7.066406 C 8.46875 7.550781 6.515625 9.15625 4.394531 11.992188 C 3.0625 13.777344 2.679688 14.636719 3.042969 15.027344 L 3.15625 15.152344 L 3.519531 15.152344 C 4.238281 15.152344 4.828125 14.886719 8.1875 13.039062 C 9.386719 12.378906 10.371094 11.839844 10.378906 11.839844 C 10.386719 11.839844 10.355469 11.929688 10.304688 12.035156 C 9.832031 13.09375 9.257812 14.820312 8.96875 16.078125 C 7.914062 20.652344 8.617188 24.53125 11.070312 27.660156 C 11.351562 28.015625 11.363281 27.914062 10.972656 28.382812 C 8.925781 30.84375 7.945312 33.28125 8.238281 35.1875 C 8.289062 35.527344 8.28125 35.523438 8.917969 35.523438 C 10.941406 35.523438 13.074219 34.207031 15.136719 31.6875 C 15.359375 31.417969 15.328125 31.425781 15.5625 31.574219 C 16.292969 32.042969 18.023438 32.964844 18.175781 32.964844 C 18.335938 32.964844 19.941406 32.210938 20.828125 31.71875 C 20.996094 31.625 21.136719 31.554688 21.136719 31.558594 C 21.203125 31.664062 21.898438 32.414062 22.222656 32.730469 C 23.835938 34.300781 25.5625 35.132812 27.582031 35.300781 C 27.90625 35.328125 27.9375 35.308594 28.007812 34.984375 C 28.382812 33.242188 27.625 30.925781 25.863281 28.425781 L 25.542969 27.96875 L 25.699219 27.785156 C 28.945312 23.960938 29.132812 18.699219 26.257812 11.96875 L 26.207031 11.84375 L 27.945312 12.703125 C 31.53125 14.476562 32.316406 14.800781 33.03125 14.800781 C 33.976562 14.800781 33.78125 13.9375 32.472656 12.292969 C 28.519531 7.355469 25.394531 5.925781 21.921875 7.472656 L 21.558594 7.636719 L 21.578125 7.542969 C 21.699219 6.992188 21.761719 5.742188 21.699219 5.164062 C 21.496094 3.296875 20.664062 1.964844 19.003906 0.855469 C 18.480469 0.503906 18.457031 0.5 18.214844 0.632812\"/>\n",
              "</g>\n",
              "      </svg>\n",
              "    "
            ]
          },
          "metadata": {}
        }
      ]
    },
    {
      "cell_type": "markdown",
      "source": [],
      "metadata": {
        "id": "NfeRKTZQbCZJ"
      }
    },
    {
      "cell_type": "markdown",
      "source": [
        "かわいいカメさん！ 🐢🐢🐢🐢🐢🐢🐢🐢🐢🐢🐢🐢🐢🐢🐢🐢🐢🐢🐢🐢🐢🐢🐢 ちなみに実行はプログラム文を入力中にCtrl+Enter(MacOSならCommand+Enter)でもできますよ！\n"
      ],
      "metadata": {
        "id": "1tYHJ7t3ipfO"
      }
    },
    {
      "cell_type": "markdown",
      "source": [
        "*******\n",
        "## 🐢おさらい：五芒星★を徐々に大きくしましょう🐢\n",
        "先週学びました**random.choice**を使って★の各辺の色を変える方法をおさらいしましょう。 \n",
        "\n",
        "初めての方もぜひ試してみてくださーい！！\n",
        "\n",
        "🐢🐢🐢🐢🐢🐢🐢🐢🐢🐢🐢🐢🐢🐢🐢🐢🐢🐢"
      ],
      "metadata": {
        "id": "4pU6DiXs5SW6"
      }
    },
    {
      "cell_type": "code",
      "source": [
        "##########################################\n",
        "#👇にコードを入力してください。\n",
        "#########################################\n",
        "\n",
        "\n",
        "\n",
        "\n",
        "\n"
      ],
      "metadata": {
        "id": "Qq08znsA62D6"
      },
      "execution_count": null,
      "outputs": []
    },
    {
      "cell_type": "markdown",
      "source": [
        "*****\n",
        "## 🐢本日のミッション：ランダムな位置に複数★を描いてみましょう🐢\n",
        "\n",
        "講師からのヒントに従ってチャレンジしてみてくださーい！！"
      ],
      "metadata": {
        "id": "9fJi4vfp6J-0"
      }
    },
    {
      "cell_type": "code",
      "source": [
        "##########################################\n",
        "#👇にコードを入力してください。\n",
        "##########################################\n",
        "\n",
        "\n",
        "\n",
        "\n"
      ],
      "metadata": {
        "id": "whObpfLIi1vN"
      },
      "execution_count": 44,
      "outputs": []
    },
    {
      "cell_type": "markdown",
      "source": [
        "****\n",
        "## ★の色が変わりましたか。\n",
        "\n",
        "さすが！あなたはたった数十分でコンピュータに何個も命令ができるようになったわけですね！\n",
        "\n",
        "めっちゃカッコいい❗❗😻😻😻😻\n",
        "\n",
        "ぜひあなたの作品を皆さんに共有してみてください！\n",
        "\n",
        " 👉https://forms.office.com/Pages/ResponsePage.aspx?id=RZxMVaXXBUSJtCP4s7MsCCl976eBnelIieBxpi83jVpUODVJQ1NUVkszSDZDQkQyQjZYVzFPSEhTVi4u\n",
        "\n",
        "今回はここまで！\n",
        "\n",
        "もっといろんなことを試したい？ここはいつでも自由に使えますよ！"
      ],
      "metadata": {
        "id": "eLCUVOYA6rQX"
      }
    }
  ]
}