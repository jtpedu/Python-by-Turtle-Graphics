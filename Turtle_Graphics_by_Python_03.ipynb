{
  "nbformat": 4,
  "nbformat_minor": 0,
  "metadata": {
    "colab": {
      "provenance": []
    },
    "kernelspec": {
      "name": "python3",
      "display_name": "Python 3"
    },
    "language_info": {
      "name": "python"
    }
  },
  "cells": [
    {
      "cell_type": "markdown",
      "source": [
        "## 🐢タートルグラフィックスの始め方🐢\n",
        "\n",
        "👇のコマンド入力欄(セルと呼びます)の左にある「▶」ボタンを押して実行してみましょう。 すると白いキャンバスに緑のカメが表示されます。 これで準備は完了です❗😽😽😽😽😽"
      ],
      "metadata": {
        "id": "dgC5_b4vfmBj"
      }
    },
    {
      "cell_type": "code",
      "execution_count": null,
      "metadata": {
        "id": "2lIQsWL4fShN"
      },
      "outputs": [],
      "source": [
        "#############################################################################################################\n",
        "#👈にある再生ボタンをクリックして実行してください。そうすればタートルグラフィックスのための準備は完了です！#\n",
        "#############################################################################################################\n",
        "%pip install ColabTurtle\n",
        "from ColabTurtle.Turtle import *\n",
        "initializeTurtle()\n",
        "speed(1)\n",
        "bgcolor('white')\n",
        "pencolor('green')"
      ]
    },
    {
      "cell_type": "markdown",
      "source": [
        "かわいいカメさん！ 🐢🐢🐢🐢🐢🐢🐢🐢🐢🐢🐢🐢🐢🐢🐢🐢🐢🐢🐢🐢🐢🐢🐢 \n",
        "\n",
        "ちなみに実行はプログラム文を入力中にCtrl+Enter(MacOSならCommand+Enter)でもできますよ！"
      ],
      "metadata": {
        "id": "MfQdSCE6uFB4"
      }
    },
    {
      "cell_type": "markdown",
      "source": [
        "******\n",
        "## 🐢おさらい：五芒星★を描いてみましょう🐢\n",
        "先週学びました\n",
        "for文で★を作る方法をおさらいしましょう。\n",
        "初めての方もぜひ試してみてくださーい！！\n",
        "\n",
        "ヒント💡：\n",
        "\n",
        "for i in range(*繰り返し回数*):\n",
        " \n",
        " *繰り返し処理①*\n",
        "\n",
        " *繰り返し処理②* \n",
        "\n",
        "🐢🐢🐢🐢🐢🐢🐢🐢🐢🐢🐢🐢🐢🐢🐢🐢🐢🐢"
      ],
      "metadata": {
        "id": "VnSnSTI3uJtb"
      }
    },
    {
      "cell_type": "code",
      "source": [
        "##########################################\n",
        "#👇にコードを入力して実行してみてください。\n",
        "#########################################\n",
        "\n",
        "\n",
        "\n",
        "\n",
        "\n",
        "\n",
        "\n",
        "\n"
      ],
      "metadata": {
        "id": "BMPlHy1UuCkT"
      },
      "execution_count": null,
      "outputs": []
    },
    {
      "cell_type": "markdown",
      "source": [
        "******\n",
        "## 🐢本日のミッション：五芒星★をどんどん大きくしましょう🐢\n",
        "\n",
        "講師からのヒントに従ってチャレンジしてみてくださーい！！"
      ],
      "metadata": {
        "id": "hwu7viNoz8_t"
      }
    },
    {
      "cell_type": "code",
      "source": [
        "##########################################\n",
        "#👇にコードを入力して★を大きくしてください。\n",
        "#########################################\n",
        "\n",
        "\n",
        "\n",
        "\n",
        "\n",
        "\n",
        "\n",
        "\n"
      ],
      "metadata": {
        "id": "5EP3ry2c13fE"
      },
      "execution_count": null,
      "outputs": []
    },
    {
      "cell_type": "markdown",
      "source": [
        "***\n",
        "# ★が大きくなりましたか\n",
        "\n",
        "さすが！あなたはたった数十分でコンピュータに何個も命令ができるようになったわけですね！\n",
        "\n",
        " めっちゃカッコいい❗❗😻😻😻😻\n",
        "\n",
        "ぜひあなたの作品を皆さんに共有してみてください！\n",
        "👉https://forms.office.com/Pages/ResponsePage.aspx?id=RZxMVaXXBUSJtCP4s7MsCCl976eBnelIieBxpi83jVpUODVJQ1NUVkszSDZDQkQyQjZYVzFPSEhTVi4u\n",
        "\n",
        "# 今回はここまで！\n",
        "もっといろんなことを試したい？ここはいつでも自由に使えますよ！"
      ],
      "metadata": {
        "id": "XDej893yQqCG"
      }
    }
  ]
}