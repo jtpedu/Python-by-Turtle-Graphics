{
  "nbformat": 4,
  "nbformat_minor": 0,
  "metadata": {
    "colab": {
      "provenance": []
    },
    "kernelspec": {
      "name": "python3",
      "display_name": "Python 3"
    },
    "language_info": {
      "name": "python"
    }
  },
  "cells": [
    {
      "cell_type": "markdown",
      "source": [
        "# 🐢タートルグラフィックスの始め方🐢\n",
        "👇のコマンド入力欄(セルと呼びます)の左にある「▶」ボタンを押して実行してみましょう。\n",
        "すると白いキャンバスに緑のカメが表示されます。\n",
        "これで準備は完了です❗😽😽😽😽😽"
      ],
      "metadata": {
        "id": "Rz1MY46ziiID"
      }
    },
    {
      "cell_type": "code",
      "source": [
        "#############################################################################################################\n",
        "#👈にある再生ボタンをクリックして実行してください。そうすればタートルグラフィックスのための準備は完了です！#\n",
        "#############################################################################################################\n",
        "%pip install ColabTurtle\n",
        "from ColabTurtle.Turtle import *\n",
        "initializeTurtle()\n",
        "speed(10)\n",
        "bgcolor('white')\n",
        "pencolor('green')"
      ],
      "metadata": {
        "id": "uL_tXOX9ikMM"
      },
      "execution_count": null,
      "outputs": []
    },
    {
      "cell_type": "markdown",
      "source": [],
      "metadata": {
        "id": "NfeRKTZQbCZJ"
      }
    },
    {
      "cell_type": "markdown",
      "source": [
        "かわいいカメさん！ 🐢🐢🐢🐢🐢🐢🐢🐢🐢🐢🐢🐢🐢🐢🐢🐢🐢🐢🐢🐢🐢🐢🐢 ちなみに実行はプログラム文を入力中にCtrl+Enter(MacOSならCommand+Enter)でもできますよ！\n"
      ],
      "metadata": {
        "id": "1tYHJ7t3ipfO"
      }
    },
    {
      "cell_type": "markdown",
      "source": [
        "*******\n",
        "## 🐢おさらい：五芒星★を徐々に大きくしましょう🐢\n",
        "先週学びました**random.choice**を使って★の各辺の色を変える方法をおさらいしましょう。 \n",
        "\n",
        "初めての方もぜひ試してみてくださーい！！\n",
        "\n",
        "🐢🐢🐢🐢🐢🐢🐢🐢🐢🐢🐢🐢🐢🐢🐢🐢🐢🐢"
      ],
      "metadata": {
        "id": "4pU6DiXs5SW6"
      }
    },
    {
      "cell_type": "code",
      "source": [
        "##########################################\n",
        "#👇にコードを入力してください。\n",
        "#########################################\n",
        "\n",
        "\n",
        "\n",
        "\n",
        "\n"
      ],
      "metadata": {
        "id": "Qq08znsA62D6"
      },
      "execution_count": null,
      "outputs": []
    },
    {
      "cell_type": "markdown",
      "source": [
        "*****\n",
        "## 🐢本日のミッション：ランダムな位置に複数★を描いてみましょう🐢\n",
        "\n",
        "講師からのヒントに従ってチャレンジしてみてくださーい！！"
      ],
      "metadata": {
        "id": "9fJi4vfp6J-0"
      }
    },
    {
      "cell_type": "code",
      "source": [
        "##########################################\n",
        "#👇にコードを入力してください。\n",
        "##########################################\n",
        "\n",
        "\n",
        "\n",
        "\n"
      ],
      "metadata": {
        "id": "whObpfLIi1vN"
      },
      "execution_count": 44,
      "outputs": []
    },
    {
      "cell_type": "markdown",
      "source": [
        "****\n",
        "## ★の色が変わりましたか。\n",
        "\n",
        "さすが！あなたはたった数十分でコンピュータに何個も命令ができるようになったわけですね！\n",
        "\n",
        "めっちゃカッコいい❗❗😻😻😻😻\n",
        "\n",
        "ぜひあなたの作品を皆さんに共有してみてください！\n",
        "\n",
        " 👉https://forms.office.com/Pages/ResponsePage.aspx?id=RZxMVaXXBUSJtCP4s7MsCCl976eBnelIieBxpi83jVpUODVJQ1NUVkszSDZDQkQyQjZYVzFPSEhTVi4u\n",
        "\n",
        "今回はここまで！\n",
        "\n",
        "もっといろんなことを試したい？ここはいつでも自由に使えますよ！"
      ],
      "metadata": {
        "id": "eLCUVOYA6rQX"
      }
    }
  ]
}